{
 "cells": [
  {
   "cell_type": "code",
   "execution_count": 16,
   "id": "bfe2a24c",
   "metadata": {},
   "outputs": [
    {
     "name": "stderr",
     "output_type": "stream",
     "text": [
      "All model checkpoint layers were used when initializing TFRobertaForSequenceClassification.\n",
      "\n",
      "All the layers of TFRobertaForSequenceClassification were initialized from the model checkpoint at siebert/sentiment-roberta-large-english.\n",
      "If your task is similar to the task the model of the checkpoint was trained on, you can already use TFRobertaForSequenceClassification for predictions without further training.\n"
     ]
    }
   ],
   "source": [
    "#importing libraries\n",
    "import pandas as pd\n",
    "from transformers import pipeline\n",
    "\n",
    "#Reading dataset\n",
    "df = pd.read_excel('.\\Data.xlsx')\n",
    "\n",
    "#Extracting only the useful columns\n",
    "df= df[['Text', 'Date','Retweet','Like','View']]\n",
    "\n",
    "#Selecting only the ASCII characters from the Text\n",
    "for i,t in df.iterrows():\n",
    "    df.loc[i,\"Text\"]=t[\"Text\"].encode('ascii', 'ignore').decode('ascii')\n",
    "    \n",
    "#Fetching the model from huggingface\n",
    "model = pipeline(\"sentiment-analysis\",model=\"siebert/sentiment-roberta-large-english\")\n",
    "\n",
    "#Generate sentiment analysis results\n",
    "for i,t in df.iterrows():\n",
    "    df.loc[i,\"Sentiment\"]=model(t[\"Text\"])[0]['label']\n",
    "    \n",
    "#Saving the file\n",
    "df.to_csv(r'.\\to_dashboard.csv',index = False)"
   ]
  }
 ],
 "metadata": {
  "kernelspec": {
   "display_name": "Python 3 (ipykernel)",
   "language": "python",
   "name": "python3"
  },
  "language_info": {
   "codemirror_mode": {
    "name": "ipython",
    "version": 3
   },
   "file_extension": ".py",
   "mimetype": "text/x-python",
   "name": "python",
   "nbconvert_exporter": "python",
   "pygments_lexer": "ipython3",
   "version": "3.9.12"
  }
 },
 "nbformat": 4,
 "nbformat_minor": 5
}
